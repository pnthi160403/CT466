{
 "cells": [
  {
   "cell_type": "code",
   "execution_count": 1,
   "metadata": {},
   "outputs": [],
   "source": [
    "from attns import (\n",
    "    MultiheadAdditiveAttention,\n",
    "    MultiheadScaledDotProductAttention,\n",
    "    MutiheadRelativeAttention,\n",
    ")\n",
    "import torch\n",
    "from utils.mask import create_decoder_atn_mask"
   ]
  },
  {
   "cell_type": "code",
   "execution_count": 2,
   "metadata": {},
   "outputs": [],
   "source": [
    "model = MultiheadAdditiveAttention(\n",
    "    embed_dim=10,\n",
    "    num_heads=2,\n",
    "    dropout=0.1,\n",
    ")\n",
    "model\n",
    "\n",
    "model1 = MultiheadScaledDotProductAttention(\n",
    "    embed_dim=10,\n",
    "    num_heads=2,\n",
    "    dropout=0.1,\n",
    ")\n",
    "model1\n",
    "\n",
    "model2 = MutiheadRelativeAttention(\n",
    "    embed_dim=10,\n",
    "    num_heads=2,\n",
    "    dropout=0.1,\n",
    "    max_relative_positions=20,\n",
    ")"
   ]
  },
  {
   "cell_type": "code",
   "execution_count": 3,
   "metadata": {},
   "outputs": [],
   "source": [
    "hidden_states = torch.randn(2, 5, 10)\n",
    "key_value_states = torch.randn(2, 4, 10)"
   ]
  },
  {
   "cell_type": "code",
   "execution_count": 4,
   "metadata": {},
   "outputs": [
    {
     "data": {
      "text/plain": [
       "torch.Size([2, 5, 10])"
      ]
     },
     "execution_count": 4,
     "metadata": {},
     "output_type": "execute_result"
    }
   ],
   "source": [
    "model2(\n",
    "    hidden_states,\n",
    "    key_value_states,\n",
    ").shape"
   ]
  }
 ],
 "metadata": {
  "kernelspec": {
   "display_name": "Python 3",
   "language": "python",
   "name": "python3"
  },
  "language_info": {
   "codemirror_mode": {
    "name": "ipython",
    "version": 3
   },
   "file_extension": ".py",
   "mimetype": "text/x-python",
   "name": "python",
   "nbconvert_exporter": "python",
   "pygments_lexer": "ipython3",
   "version": "3.10.12"
  }
 },
 "nbformat": 4,
 "nbformat_minor": 2
}
